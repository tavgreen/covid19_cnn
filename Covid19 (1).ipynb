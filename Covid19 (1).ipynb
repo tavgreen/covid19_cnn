{
  "nbformat": 4,
  "nbformat_minor": 0,
  "metadata": {
    "colab": {
      "name": "Covid19.ipynb",
      "provenance": [],
      "collapsed_sections": []
    },
    "kernelspec": {
      "name": "python3",
      "display_name": "Python 3"
    }
  },
  "cells": [
    {
      "cell_type": "code",
      "metadata": {
        "id": "mtQUYXmcqfRn",
        "colab_type": "code",
        "outputId": "f1c8ba66-88be-4e27-b08c-cf780e454c6c",
        "colab": {
          "base_uri": "https://localhost:8080/",
          "height": 54
        }
      },
      "source": [
        "# CONNECT GOOGLE DRIVE\n",
        "from google.colab import drive\n",
        "drive.mount('/content/drive')"
      ],
      "execution_count": 2,
      "outputs": [
        {
          "output_type": "stream",
          "text": [
            "Drive already mounted at /content/drive; to attempt to forcibly remount, call drive.mount(\"/content/drive\", force_remount=True).\n"
          ],
          "name": "stdout"
        }
      ]
    },
    {
      "cell_type": "code",
      "metadata": {
        "id": "ZpuXVJBxyZYd",
        "colab_type": "code",
        "colab": {}
      },
      "source": [
        "!unzip \"/content/drive/My Drive/dataset/covid19-xray.zip\" -d \"/content/drive/My Drive/dataset/covid19/\""
      ],
      "execution_count": 0,
      "outputs": []
    },
    {
      "cell_type": "code",
      "metadata": {
        "id": "LMSsZFxLypLE",
        "colab_type": "code",
        "outputId": "e8aabec0-4217-45a0-c94b-d34ba0b45552",
        "colab": {
          "base_uri": "https://localhost:8080/",
          "height": 51
        }
      },
      "source": [
        "import os, re, glob, cv2, numpy as np\n",
        "\n",
        "path = os.path.abspath('Covid19.ipynb') #absolute path of program\n",
        "path = re.sub('[a-zA-Z\\s._]+$', '', path) #remove unintended file\n",
        "dirs = os.listdir('/content/drive/My Drive/dataset/covid19/covid19-xray/') #list directory in Land Use Images folder\n",
        "label = 0\n",
        "im_arr = []\n",
        "lb_arr = []\n",
        "X = []\n",
        "y = []\n",
        "for i in dirs: #loop all directory\n",
        "    count = 0\n",
        "    for pic in glob.glob('/content/drive/My Drive/dataset/covid19/covid19-xray/'+i+'/*'):\n",
        "        im = cv2.imread(pic) #open image\n",
        "        im = cv2.resize(im,(70,70))\n",
        "        im = np.array(im) #change into array\n",
        "        count = count + 1\n",
        "        X.append(im)\n",
        "        y.append(label)\n",
        "        if(count <= 10): #SAmple\n",
        "            im_arr.append({str(i):im})\n",
        "    print(\"Jumlah \"+str(i)+\" : \"+str(count))\n",
        "    label = label + 1\n",
        "    lb_arr.append(i)\n",
        "X = np.array(X)\n",
        "y = np.array(y);"
      ],
      "execution_count": 4,
      "outputs": [
        {
          "output_type": "stream",
          "text": [
            "Jumlah covid : 41\n",
            "Jumlah normal : 41\n"
          ],
          "name": "stdout"
        }
      ]
    },
    {
      "cell_type": "code",
      "metadata": {
        "id": "pv5d9yMJ1Oip",
        "colab_type": "code",
        "colab": {}
      },
      "source": [
        "import matplotlib.pyplot as plt\n",
        "\n",
        "fig, axs = plt.subplots(3, 7, figsize=(20, 10))\n",
        "cnt = 0\n",
        "row = 0\n",
        "col = 0\n",
        "for i in im_arr:\n",
        "    for key, value in i.items():\n",
        "        if(cnt==7):\n",
        "            row = row + 1\n",
        "            col = 0\n",
        "            cnt = 0\n",
        "        axs[row, col].imshow(value)\n",
        "        axs[row, col].set_title(key)\n",
        "        cnt = cnt + 1\n",
        "        col = col + 1\n",
        "plt.show()"
      ],
      "execution_count": 0,
      "outputs": []
    },
    {
      "cell_type": "code",
      "metadata": {
        "id": "zBuYNheYzSlE",
        "colab_type": "code",
        "outputId": "f9b38e1e-dfd3-4895-9ef6-8c713ebe316f",
        "colab": {
          "base_uri": "https://localhost:8080/",
          "height": 81
        }
      },
      "source": [
        "# PREPROCESSING\n",
        "from sklearn.model_selection import train_test_split\n",
        "from keras.utils import to_categorical\n",
        "from sklearn.metrics import classification_report\n",
        "from sklearn.metrics import confusion_matrix\n",
        "\n",
        "X_train, X_test, y_train, y_test = train_test_split(X, y, test_size=0.33, random_state=42)\n",
        "\n",
        "X_train = X_train.astype('float32') #set x_train data type as float32\n",
        "X_test = X_test.astype('float32') #set x_test data type as float32\n",
        "X_train /= 255 #change x_train value between 0 - 1\n",
        "X_test /= 255 #change x_test value between 0 - 1\n",
        "y_train = to_categorical(y_train, 2) #change label to binary / categorical: [1 0 0 0] = 0, [0 1 0 0] = 1, so on\n",
        "y_test = to_categorical(y_test, 2) #change label to binary / categorical"
      ],
      "execution_count": 0,
      "outputs": [
        {
          "output_type": "stream",
          "text": [
            "Using TensorFlow backend.\n"
          ],
          "name": "stderr"
        },
        {
          "output_type": "display_data",
          "data": {
            "text/html": [
              "<p style=\"color: red;\">\n",
              "The default version of TensorFlow in Colab will soon switch to TensorFlow 2.x.<br>\n",
              "We recommend you <a href=\"https://www.tensorflow.org/guide/migrate\" target=\"_blank\">upgrade</a> now \n",
              "or ensure your notebook will continue to use TensorFlow 1.x via the <code>%tensorflow_version 1.x</code> magic:\n",
              "<a href=\"https://colab.research.google.com/notebooks/tensorflow_version.ipynb\" target=\"_blank\">more info</a>.</p>\n"
            ],
            "text/plain": [
              "<IPython.core.display.HTML object>"
            ]
          },
          "metadata": {
            "tags": []
          }
        }
      ]
    },
    {
      "cell_type": "code",
      "metadata": {
        "id": "nsioVoJ5znzx",
        "colab_type": "code",
        "outputId": "232aa4f1-49b8-4021-9dcf-258700a75ec8",
        "colab": {
          "base_uri": "https://localhost:8080/",
          "height": 262
        }
      },
      "source": [
        "# ARSITEKTUR\n",
        "from keras.models import Sequential\n",
        "from keras.layers import Conv2D, MaxPooling2D, Dropout, Flatten, Dense\n",
        "model = Sequential() #model = sequential \n",
        "model.add(Conv2D(32, kernel_size=(3, 3),activation='relu',input_shape=(70,70,3))) #layer convolutional 2D\n",
        "model.add(MaxPooling2D(pool_size=(2,2))) #max pooling with stride (2,2)\n",
        "model.add(Conv2D(32, (3, 3), activation='relu')) #layer convolutional 2D\n",
        "model.add(MaxPooling2D(pool_size=(2,2))) #max pooling with stride (2,2)\n",
        "model.add(Dropout(0.25)) #delete neuron randomly while training and remain 75%\n",
        "model.add(Flatten()) #make layer flatten\n",
        "model.add(Dense(128, activation='relu')) #fully connected layer\n",
        "model.add(Dropout(0.5)) #delete neuron randomly and remain 50%\n",
        "model.add(Dense(2, activation='softmax')) #softmax works"
      ],
      "execution_count": 0,
      "outputs": [
        {
          "output_type": "stream",
          "text": [
            "WARNING:tensorflow:From /usr/local/lib/python3.6/dist-packages/keras/backend/tensorflow_backend.py:66: The name tf.get_default_graph is deprecated. Please use tf.compat.v1.get_default_graph instead.\n",
            "\n",
            "WARNING:tensorflow:From /usr/local/lib/python3.6/dist-packages/keras/backend/tensorflow_backend.py:541: The name tf.placeholder is deprecated. Please use tf.compat.v1.placeholder instead.\n",
            "\n",
            "WARNING:tensorflow:From /usr/local/lib/python3.6/dist-packages/keras/backend/tensorflow_backend.py:4432: The name tf.random_uniform is deprecated. Please use tf.random.uniform instead.\n",
            "\n",
            "WARNING:tensorflow:From /usr/local/lib/python3.6/dist-packages/keras/backend/tensorflow_backend.py:4267: The name tf.nn.max_pool is deprecated. Please use tf.nn.max_pool2d instead.\n",
            "\n",
            "WARNING:tensorflow:From /usr/local/lib/python3.6/dist-packages/keras/backend/tensorflow_backend.py:148: The name tf.placeholder_with_default is deprecated. Please use tf.compat.v1.placeholder_with_default instead.\n",
            "\n",
            "WARNING:tensorflow:From /usr/local/lib/python3.6/dist-packages/keras/backend/tensorflow_backend.py:3733: calling dropout (from tensorflow.python.ops.nn_ops) with keep_prob is deprecated and will be removed in a future version.\n",
            "Instructions for updating:\n",
            "Please use `rate` instead of `keep_prob`. Rate should be set to `rate = 1 - keep_prob`.\n"
          ],
          "name": "stdout"
        }
      ]
    },
    {
      "cell_type": "code",
      "metadata": {
        "id": "kVQwth8Mzq2z",
        "colab_type": "code",
        "outputId": "af1bce3b-e749-470d-8274-5c5fff87bf36",
        "colab": {
          "base_uri": "https://localhost:8080/",
          "height": 573
        }
      },
      "source": [
        "# COMPILE\n",
        "from keras.optimizers import SGD\n",
        "epochs = 25\n",
        "lrate = 0.01\n",
        "decay = lrate/epochs\n",
        "sgd = SGD(lr=lrate, momentum=0.9, decay=decay, nesterov=False)\n",
        "model.compile(loss='categorical_crossentropy', optimizer=sgd, metrics=['accuracy'])\n",
        "print(model.summary())"
      ],
      "execution_count": 0,
      "outputs": [
        {
          "output_type": "stream",
          "text": [
            "WARNING:tensorflow:From /usr/local/lib/python3.6/dist-packages/keras/optimizers.py:793: The name tf.train.Optimizer is deprecated. Please use tf.compat.v1.train.Optimizer instead.\n",
            "\n",
            "WARNING:tensorflow:From /usr/local/lib/python3.6/dist-packages/keras/backend/tensorflow_backend.py:3576: The name tf.log is deprecated. Please use tf.math.log instead.\n",
            "\n",
            "Model: \"sequential_1\"\n",
            "_________________________________________________________________\n",
            "Layer (type)                 Output Shape              Param #   \n",
            "=================================================================\n",
            "conv2d_1 (Conv2D)            (None, 68, 68, 32)        896       \n",
            "_________________________________________________________________\n",
            "max_pooling2d_1 (MaxPooling2 (None, 34, 34, 32)        0         \n",
            "_________________________________________________________________\n",
            "conv2d_2 (Conv2D)            (None, 32, 32, 32)        9248      \n",
            "_________________________________________________________________\n",
            "max_pooling2d_2 (MaxPooling2 (None, 16, 16, 32)        0         \n",
            "_________________________________________________________________\n",
            "dropout_1 (Dropout)          (None, 16, 16, 32)        0         \n",
            "_________________________________________________________________\n",
            "flatten_1 (Flatten)          (None, 8192)              0         \n",
            "_________________________________________________________________\n",
            "dense_1 (Dense)              (None, 128)               1048704   \n",
            "_________________________________________________________________\n",
            "dropout_2 (Dropout)          (None, 128)               0         \n",
            "_________________________________________________________________\n",
            "dense_2 (Dense)              (None, 2)                 258       \n",
            "=================================================================\n",
            "Total params: 1,059,106\n",
            "Trainable params: 1,059,106\n",
            "Non-trainable params: 0\n",
            "_________________________________________________________________\n",
            "None\n"
          ],
          "name": "stdout"
        }
      ]
    },
    {
      "cell_type": "code",
      "metadata": {
        "id": "Lm8_37Hjztc1",
        "colab_type": "code",
        "outputId": "3fedfdb5-deda-42ac-cca1-41cf3a04755f",
        "colab": {
          "base_uri": "https://localhost:8080/",
          "height": 1000
        }
      },
      "source": [
        "#TRAINING\n",
        "model.fit(X_train, y_train, validation_data=(X_test, y_test), epochs=epochs, batch_size=32)\n",
        "scores = model.evaluate(X_test, y_test, verbose=0)\n",
        "print(\"Accuracy: %.2f%%\" % (scores[1]*100))"
      ],
      "execution_count": 0,
      "outputs": [
        {
          "output_type": "stream",
          "text": [
            "WARNING:tensorflow:From /tensorflow-1.15.0/python3.6/tensorflow_core/python/ops/math_grad.py:1424: where (from tensorflow.python.ops.array_ops) is deprecated and will be removed in a future version.\n",
            "Instructions for updating:\n",
            "Use tf.where in 2.0, which has the same broadcast rule as np.where\n",
            "WARNING:tensorflow:From /usr/local/lib/python3.6/dist-packages/keras/backend/tensorflow_backend.py:1033: The name tf.assign_add is deprecated. Please use tf.compat.v1.assign_add instead.\n",
            "\n",
            "WARNING:tensorflow:From /usr/local/lib/python3.6/dist-packages/keras/backend/tensorflow_backend.py:1020: The name tf.assign is deprecated. Please use tf.compat.v1.assign instead.\n",
            "\n",
            "WARNING:tensorflow:From /usr/local/lib/python3.6/dist-packages/keras/backend/tensorflow_backend.py:3005: The name tf.Session is deprecated. Please use tf.compat.v1.Session instead.\n",
            "\n",
            "Train on 54 samples, validate on 28 samples\n",
            "Epoch 1/25\n",
            "WARNING:tensorflow:From /usr/local/lib/python3.6/dist-packages/keras/backend/tensorflow_backend.py:190: The name tf.get_default_session is deprecated. Please use tf.compat.v1.get_default_session instead.\n",
            "\n",
            "WARNING:tensorflow:From /usr/local/lib/python3.6/dist-packages/keras/backend/tensorflow_backend.py:197: The name tf.ConfigProto is deprecated. Please use tf.compat.v1.ConfigProto instead.\n",
            "\n",
            "WARNING:tensorflow:From /usr/local/lib/python3.6/dist-packages/keras/backend/tensorflow_backend.py:207: The name tf.global_variables is deprecated. Please use tf.compat.v1.global_variables instead.\n",
            "\n",
            "WARNING:tensorflow:From /usr/local/lib/python3.6/dist-packages/keras/backend/tensorflow_backend.py:216: The name tf.is_variable_initialized is deprecated. Please use tf.compat.v1.is_variable_initialized instead.\n",
            "\n",
            "WARNING:tensorflow:From /usr/local/lib/python3.6/dist-packages/keras/backend/tensorflow_backend.py:223: The name tf.variables_initializer is deprecated. Please use tf.compat.v1.variables_initializer instead.\n",
            "\n",
            "54/54 [==============================] - 1s 20ms/step - loss: 0.8907 - acc: 0.3519 - val_loss: 0.7143 - val_acc: 0.4643\n",
            "Epoch 2/25\n",
            "54/54 [==============================] - 0s 7ms/step - loss: 0.6909 - acc: 0.5556 - val_loss: 0.6831 - val_acc: 0.4643\n",
            "Epoch 3/25\n",
            "54/54 [==============================] - 0s 6ms/step - loss: 0.7354 - acc: 0.5000 - val_loss: 0.6462 - val_acc: 0.5357\n",
            "Epoch 4/25\n",
            "54/54 [==============================] - 0s 6ms/step - loss: 0.7679 - acc: 0.5185 - val_loss: 0.6393 - val_acc: 0.8214\n",
            "Epoch 5/25\n",
            "54/54 [==============================] - 0s 6ms/step - loss: 0.6032 - acc: 0.6667 - val_loss: 0.6453 - val_acc: 0.5000\n",
            "Epoch 6/25\n",
            "54/54 [==============================] - 0s 6ms/step - loss: 0.6449 - acc: 0.6111 - val_loss: 0.5937 - val_acc: 0.8214\n",
            "Epoch 7/25\n",
            "54/54 [==============================] - 0s 6ms/step - loss: 0.6058 - acc: 0.7407 - val_loss: 0.5578 - val_acc: 0.9643\n",
            "Epoch 8/25\n",
            "54/54 [==============================] - 0s 6ms/step - loss: 0.5205 - acc: 0.8519 - val_loss: 0.5072 - val_acc: 0.8571\n",
            "Epoch 9/25\n",
            "54/54 [==============================] - 0s 6ms/step - loss: 0.5497 - acc: 0.7222 - val_loss: 0.4597 - val_acc: 0.9286\n",
            "Epoch 10/25\n",
            "54/54 [==============================] - 0s 6ms/step - loss: 0.4398 - acc: 0.7963 - val_loss: 0.4444 - val_acc: 0.8214\n",
            "Epoch 11/25\n",
            "54/54 [==============================] - 0s 6ms/step - loss: 0.4141 - acc: 0.7778 - val_loss: 0.3587 - val_acc: 0.8929\n",
            "Epoch 12/25\n",
            "54/54 [==============================] - 0s 6ms/step - loss: 0.3899 - acc: 0.8148 - val_loss: 0.3120 - val_acc: 0.8929\n",
            "Epoch 13/25\n",
            "54/54 [==============================] - 0s 6ms/step - loss: 0.4211 - acc: 0.7963 - val_loss: 0.2641 - val_acc: 0.9643\n",
            "Epoch 14/25\n",
            "54/54 [==============================] - 0s 6ms/step - loss: 0.2832 - acc: 0.8519 - val_loss: 0.2620 - val_acc: 0.9643\n",
            "Epoch 15/25\n",
            "54/54 [==============================] - 0s 6ms/step - loss: 0.3467 - acc: 0.8519 - val_loss: 0.2402 - val_acc: 0.9643\n",
            "Epoch 16/25\n",
            "54/54 [==============================] - 0s 6ms/step - loss: 0.2973 - acc: 0.8519 - val_loss: 0.2938 - val_acc: 0.8571\n",
            "Epoch 17/25\n",
            "54/54 [==============================] - 0s 6ms/step - loss: 0.2523 - acc: 0.9074 - val_loss: 0.3020 - val_acc: 0.8214\n",
            "Epoch 18/25\n",
            "54/54 [==============================] - 0s 6ms/step - loss: 0.3018 - acc: 0.9074 - val_loss: 0.3094 - val_acc: 0.8571\n",
            "Epoch 19/25\n",
            "54/54 [==============================] - 0s 6ms/step - loss: 0.4374 - acc: 0.7778 - val_loss: 0.2386 - val_acc: 0.8929\n",
            "Epoch 20/25\n",
            "54/54 [==============================] - 0s 6ms/step - loss: 0.2753 - acc: 0.8889 - val_loss: 0.2087 - val_acc: 0.9286\n",
            "Epoch 21/25\n",
            "54/54 [==============================] - 0s 6ms/step - loss: 0.2640 - acc: 0.8519 - val_loss: 0.2263 - val_acc: 0.9643\n",
            "Epoch 22/25\n",
            "54/54 [==============================] - 0s 6ms/step - loss: 0.2031 - acc: 0.9074 - val_loss: 0.2200 - val_acc: 0.9286\n",
            "Epoch 23/25\n",
            "54/54 [==============================] - 0s 6ms/step - loss: 0.2717 - acc: 0.8704 - val_loss: 0.2237 - val_acc: 0.9643\n",
            "Epoch 24/25\n",
            "54/54 [==============================] - 0s 6ms/step - loss: 0.1957 - acc: 0.9259 - val_loss: 0.2186 - val_acc: 0.9643\n",
            "Epoch 25/25\n",
            "54/54 [==============================] - 0s 6ms/step - loss: 0.1649 - acc: 0.9444 - val_loss: 0.2173 - val_acc: 0.9643\n",
            "Accuracy: 96.43%\n"
          ],
          "name": "stdout"
        }
      ]
    },
    {
      "cell_type": "code",
      "metadata": {
        "id": "EeaF5sC3zxKS",
        "colab_type": "code",
        "colab": {}
      },
      "source": [
        "#PREDIKSI\n",
        "y_pred = model.predict(X_test)"
      ],
      "execution_count": 0,
      "outputs": []
    },
    {
      "cell_type": "code",
      "metadata": {
        "id": "9GAnMJRlz1Fn",
        "colab_type": "code",
        "colab": {}
      },
      "source": [
        "# ITERASI X_TEST\n",
        "y_prediction_n = []\n",
        "y_test_n = []\n",
        "for i in range(0, len(y_pred)):\n",
        "    max_n = max(y_pred[i])\n",
        "    max_m = max(y_test[i])\n",
        "    index_n = [index_n for index_n, j in enumerate(y_pred[i]) if j == max_n]\n",
        "    index_m = [index_m for index_m, j in enumerate(y_test[i]) if j == max_m]\n",
        "    y_prediction_n.append(index_n)\n",
        "    y_test_n.append(index_m)"
      ],
      "execution_count": 0,
      "outputs": []
    },
    {
      "cell_type": "code",
      "metadata": {
        "id": "P0afZHoTz3oR",
        "colab_type": "code",
        "outputId": "1c7790fc-d7bd-4ea9-8832-fa20e13c743a",
        "colab": {
          "base_uri": "https://localhost:8080/",
          "height": 173
        }
      },
      "source": [
        "#CLASSIFICATION REPORT\n",
        "from sklearn.metrics import classification_report\n",
        "print(classification_report(y_test_n, y_prediction_n, target_names=[\"COVID\",\"NORMAL\"]))"
      ],
      "execution_count": 0,
      "outputs": [
        {
          "output_type": "stream",
          "text": [
            "              precision    recall  f1-score   support\n",
            "\n",
            "       COVID       1.00      0.93      0.97        15\n",
            "      NORMAL       0.93      1.00      0.96        13\n",
            "\n",
            "    accuracy                           0.96        28\n",
            "   macro avg       0.96      0.97      0.96        28\n",
            "weighted avg       0.97      0.96      0.96        28\n",
            "\n"
          ],
          "name": "stdout"
        }
      ]
    },
    {
      "cell_type": "code",
      "metadata": {
        "id": "su6nfhOD0Ylk",
        "colab_type": "code",
        "outputId": "6b29b25d-0aee-4091-d02b-3e2ec178708a",
        "colab": {
          "base_uri": "https://localhost:8080/",
          "height": 52
        }
      },
      "source": [
        "y_pred = model.predict_classes(X_test)\n",
        "y_pred"
      ],
      "execution_count": 0,
      "outputs": [
        {
          "output_type": "execute_result",
          "data": {
            "text/plain": [
              "array([1, 0, 0, 0, 0, 0, 0, 1, 0, 0, 1, 0, 1, 0, 1, 1, 1, 1, 1, 0, 0, 1,\n",
              "       0, 1, 0, 1, 1, 1])"
            ]
          },
          "metadata": {
            "tags": []
          },
          "execution_count": 22
        }
      ]
    },
    {
      "cell_type": "code",
      "metadata": {
        "id": "vpPaN4Y30Nqv",
        "colab_type": "code",
        "colab": {}
      },
      "source": [
        "y_test_class = np.argmax(y_test, axis=1)"
      ],
      "execution_count": 0,
      "outputs": []
    },
    {
      "cell_type": "code",
      "metadata": {
        "id": "dG1v0I2H0IM6",
        "colab_type": "code",
        "outputId": "47fddc32-867e-4b1d-956a-92dc7543c408",
        "colab": {
          "base_uri": "https://localhost:8080/",
          "height": 69
        }
      },
      "source": [
        "from sklearn.metrics import confusion_matrix, accuracy_score\n",
        "import seaborn as sn\n",
        "print(accuracy_score(y_test_class, y_pred))\n",
        "confusion_matrix(y_test_class, y_pred)"
      ],
      "execution_count": 0,
      "outputs": [
        {
          "output_type": "stream",
          "text": [
            "0.9642857142857143\n"
          ],
          "name": "stdout"
        },
        {
          "output_type": "execute_result",
          "data": {
            "text/plain": [
              "array([[14,  1],\n",
              "       [ 0, 13]])"
            ]
          },
          "metadata": {
            "tags": []
          },
          "execution_count": 24
        }
      ]
    },
    {
      "cell_type": "code",
      "metadata": {
        "id": "1ABR1n_Q0daY",
        "colab_type": "code",
        "outputId": "a8be561e-242f-4713-8ba5-28d1c18f9138",
        "colab": {
          "base_uri": "https://localhost:8080/",
          "height": 286
        }
      },
      "source": [
        "cm = confusion_matrix(y_test_class, y_pred)\n",
        "sn.heatmap(cm, annot=True, xticklabels=[\"Covid-19\",\"Normal\"], yticklabels=[\"Covid-19\",\"Normal\"])"
      ],
      "execution_count": 0,
      "outputs": [
        {
          "output_type": "execute_result",
          "data": {
            "text/plain": [
              "<matplotlib.axes._subplots.AxesSubplot at 0x7fd1df3e5358>"
            ]
          },
          "metadata": {
            "tags": []
          },
          "execution_count": 27
        },
        {
          "output_type": "display_data",
          "data": {
            "image/png": "[encoded data removed]",
            "text/plain": [
              "<Figure size 432x288 with 2 Axes>"
            ]
          },
          "metadata": {
            "tags": []
          }
        }
      ]
    }
  ]
}